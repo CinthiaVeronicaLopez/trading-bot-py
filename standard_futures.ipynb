{
 "cells": [
  {
   "cell_type": "code",
   "execution_count": 1,
   "metadata": {},
   "outputs": [],
   "source": [
    "# IMPORTS\n",
    "import os\n",
    "import time\n",
    "import requests\n",
    "import hmac\n",
    "from hashlib import sha256"
   ]
  },
  {
   "cell_type": "code",
   "execution_count": 2,
   "metadata": {},
   "outputs": [],
   "source": [
    "# CONSTANTS\n",
    "from dotenv import load_dotenv\n",
    "\n",
    "load_dotenv()\n",
    "\n",
    "APIURL = os.getenv('API_URL')\n",
    "APIKEY = os.getenv('API_KEY')\n",
    "SECRETKEY = os.getenv('SECRET_KEY')"
   ]
  },
  {
   "cell_type": "code",
   "execution_count": 3,
   "metadata": {},
   "outputs": [
    {
     "name": "stdout",
     "output_type": "stream",
     "text": [
      "sign=9d5c3a0bf8535f88124c3906a82dd824e948252868d853e3683725c04dfefdfd\n",
      "https://open-api.bingx.com/openApi/contract/v1/allPosition?timestamp=1725127760821&signature=9d5c3a0bf8535f88124c3906a82dd824e948252868d853e3683725c04dfefdfd\n",
      "demo: {\"code\":0,\"timestamp\":1725127753451,\"data\":[]}\n"
     ]
    }
   ],
   "source": [
    "# Position\n",
    "\n",
    "def demo():\n",
    "    payload = {}\n",
    "    path = '/openApi/contract/v1/allPosition'\n",
    "    method = \"GET\"\n",
    "    paramsMap = {}\n",
    "    paramsStr = parseParam(paramsMap)\n",
    "    return send_request(method, path, paramsStr, payload)\n",
    "\n",
    "def get_sign(api_secret, payload):\n",
    "    signature = hmac.new(api_secret.encode(\"utf-8\"), payload.encode(\"utf-8\"), digestmod=sha256).hexdigest()\n",
    "    print(\"sign=\" + signature)\n",
    "    return signature\n",
    "\n",
    "\n",
    "def send_request(method, path, urlpa, payload):\n",
    "    url = \"%s%s?%s&signature=%s\" % (APIURL, path, urlpa, get_sign(SECRETKEY, urlpa))\n",
    "    print(url)\n",
    "    headers = {\n",
    "        'X-BX-APIKEY': APIKEY,\n",
    "    }\n",
    "    response = requests.request(method, url, headers=headers, data=payload)\n",
    "    return response.text\n",
    "\n",
    "def parseParam(paramsMap):\n",
    "    sortedKeys = sorted(paramsMap)\n",
    "    paramsStr = \"&\".join([\"%s=%s\" % (x, paramsMap[x]) for x in sortedKeys])\n",
    "    if paramsStr != \"\": \n",
    "     return paramsStr+\"&timestamp=\"+str(int(time.time() * 1000))\n",
    "    else:\n",
    "     return paramsStr+\"timestamp=\"+str(int(time.time() * 1000))\n",
    "\n",
    "\n",
    "if __name__ == '__main__':\n",
    "    print(\"demo:\", demo())\n"
   ]
  },
  {
   "cell_type": "code",
   "execution_count": null,
   "metadata": {},
   "outputs": [],
   "source": [
    "# Historical order\n",
    "\n",
    "def demo():\n",
    "    payload = {}\n",
    "    path = '/openApi/contract/v1/allOrders'\n",
    "    method = \"GET\"\n",
    "    paramsMap = {\n",
    "    \"symbol\": \"BTC-USDT\",\n",
    "    \"orderId\": 0,\n",
    "    \"startTime\": 0,\n",
    "    \"endTime\": 0,\n",
    "    \"limit\": 0\n",
    "}\n",
    "    paramsStr = parseParam(paramsMap)\n",
    "    return send_request(method, path, paramsStr, payload)\n",
    "\n",
    "def get_sign(api_secret, payload):\n",
    "    signature = hmac.new(api_secret.encode(\"utf-8\"), payload.encode(\"utf-8\"), digestmod=sha256).hexdigest()\n",
    "    print(\"sign=\" + signature)\n",
    "    return signature\n",
    "\n",
    "\n",
    "def send_request(method, path, urlpa, payload):\n",
    "    url = \"%s%s?%s&signature=%s\" % (APIURL, path, urlpa, get_sign(SECRETKEY, urlpa))\n",
    "    print(url)\n",
    "    headers = {\n",
    "        'X-BX-APIKEY': APIKEY,\n",
    "    }\n",
    "    response = requests.request(method, url, headers=headers, data=payload)\n",
    "    return response.text\n",
    "\n",
    "def parseParam(paramsMap):\n",
    "    sortedKeys = sorted(paramsMap)\n",
    "    paramsStr = \"&\".join([\"%s=%s\" % (x, paramsMap[x]) for x in sortedKeys])\n",
    "    if paramsStr != \"\": \n",
    "     return paramsStr+\"&timestamp=\"+str(int(time.time() * 1000))\n",
    "    else:\n",
    "     return paramsStr+\"timestamp=\"+str(int(time.time() * 1000))\n",
    "\n",
    "\n",
    "if __name__ == '__main__':\n",
    "    print(\"demo:\", demo())\n"
   ]
  },
  {
   "cell_type": "code",
   "execution_count": null,
   "metadata": {},
   "outputs": [],
   "source": [
    "# Query standard contract balance\n"
   ]
  }
 ],
 "metadata": {
  "kernelspec": {
   "display_name": ".venv",
   "language": "python",
   "name": "python3"
  },
  "language_info": {
   "codemirror_mode": {
    "name": "ipython",
    "version": 3
   },
   "file_extension": ".py",
   "mimetype": "text/x-python",
   "name": "python",
   "nbconvert_exporter": "python",
   "pygments_lexer": "ipython3",
   "version": "3.11.2"
  }
 },
 "nbformat": 4,
 "nbformat_minor": 2
}
